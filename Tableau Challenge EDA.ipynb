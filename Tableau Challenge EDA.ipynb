{
 "cells": [
  {
   "cell_type": "code",
   "execution_count": 2,
   "metadata": {},
   "outputs": [],
   "source": [
    "#Import dependencies\n",
    "import pandas as pd"
   ]
  },
  {
   "cell_type": "code",
   "execution_count": 3,
   "metadata": {},
   "outputs": [],
   "source": [
    "#Read CSV files into dataframes\n",
    "df_2023_10 = pd.read_csv('Resources/JC-202310-citibike-tripdata.csv')\n",
    "df_2023_11 = pd.read_csv('Resources/JC-202311-citibike-tripdata.csv')\n",
    "df_2023_12 = pd.read_csv('Resources/JC-202312-citibike-tripdata.csv')"
   ]
  },
  {
   "cell_type": "code",
   "execution_count": 5,
   "metadata": {},
   "outputs": [
    {
     "name": "stdout",
     "output_type": "stream",
     "text": [
      "<class 'pandas.core.frame.DataFrame'>\n",
      "RangeIndex: 97584 entries, 0 to 97583\n",
      "Data columns (total 13 columns):\n",
      " #   Column              Non-Null Count  Dtype  \n",
      "---  ------              --------------  -----  \n",
      " 0   ride_id             97584 non-null  object \n",
      " 1   rideable_type       97584 non-null  object \n",
      " 2   started_at          97584 non-null  object \n",
      " 3   ended_at            97584 non-null  object \n",
      " 4   start_station_name  97579 non-null  object \n",
      " 5   start_station_id    97579 non-null  object \n",
      " 6   end_station_name    97207 non-null  object \n",
      " 7   end_station_id      97207 non-null  object \n",
      " 8   start_lat           97584 non-null  float64\n",
      " 9   start_lng           97584 non-null  float64\n",
      " 10  end_lat             97497 non-null  float64\n",
      " 11  end_lng             97497 non-null  float64\n",
      " 12  member_casual       97584 non-null  object \n",
      "dtypes: float64(4), object(9)\n",
      "memory usage: 9.7+ MB\n"
     ]
    }
   ],
   "source": [
    "#Check first DF for missing values\n",
    "df_2023_10.info()"
   ]
  },
  {
   "cell_type": "code",
   "execution_count": 15,
   "metadata": {},
   "outputs": [],
   "source": [
    "#start_station_name and start_station_id are missing 5 rows\n",
    "#end_station_name and end_station_id are missing 377 rows\n",
    "#end_lat and end_lng are missing 87 rows\n",
    "\n",
    "#Drop any NA values from the DF and store in a new cleaned DF\n",
    "cleaned_df_2023_10 = df_2023_10.dropna(axis = 0, how = 'any')"
   ]
  },
  {
   "cell_type": "code",
   "execution_count": 16,
   "metadata": {},
   "outputs": [
    {
     "name": "stdout",
     "output_type": "stream",
     "text": [
      "<class 'pandas.core.frame.DataFrame'>\n",
      "Int64Index: 97204 entries, 0 to 97583\n",
      "Data columns (total 13 columns):\n",
      " #   Column              Non-Null Count  Dtype  \n",
      "---  ------              --------------  -----  \n",
      " 0   ride_id             97204 non-null  object \n",
      " 1   rideable_type       97204 non-null  object \n",
      " 2   started_at          97204 non-null  object \n",
      " 3   ended_at            97204 non-null  object \n",
      " 4   start_station_name  97204 non-null  object \n",
      " 5   start_station_id    97204 non-null  object \n",
      " 6   end_station_name    97204 non-null  object \n",
      " 7   end_station_id      97204 non-null  object \n",
      " 8   start_lat           97204 non-null  float64\n",
      " 9   start_lng           97204 non-null  float64\n",
      " 10  end_lat             97204 non-null  float64\n",
      " 11  end_lng             97204 non-null  float64\n",
      " 12  member_casual       97204 non-null  object \n",
      "dtypes: float64(4), object(9)\n",
      "memory usage: 10.4+ MB\n"
     ]
    }
   ],
   "source": [
    "#Check cleaned DF to ensure no more missing values\n",
    "cleaned_df_2023_10.info()\n",
    "#380 rows removed"
   ]
  },
  {
   "cell_type": "code",
   "execution_count": 18,
   "metadata": {},
   "outputs": [
    {
     "name": "stdout",
     "output_type": "stream",
     "text": [
      "<class 'pandas.core.frame.DataFrame'>\n",
      "RangeIndex: 75646 entries, 0 to 75645\n",
      "Data columns (total 13 columns):\n",
      " #   Column              Non-Null Count  Dtype  \n",
      "---  ------              --------------  -----  \n",
      " 0   ride_id             75646 non-null  object \n",
      " 1   rideable_type       75646 non-null  object \n",
      " 2   started_at          75646 non-null  object \n",
      " 3   ended_at            75646 non-null  object \n",
      " 4   start_station_name  75637 non-null  object \n",
      " 5   start_station_id    75637 non-null  object \n",
      " 6   end_station_name    75407 non-null  object \n",
      " 7   end_station_id      75407 non-null  object \n",
      " 8   start_lat           75646 non-null  float64\n",
      " 9   start_lng           75646 non-null  float64\n",
      " 10  end_lat             75615 non-null  float64\n",
      " 11  end_lng             75615 non-null  float64\n",
      " 12  member_casual       75646 non-null  object \n",
      "dtypes: float64(4), object(9)\n",
      "memory usage: 7.5+ MB\n"
     ]
    }
   ],
   "source": [
    "#Check second DF\n",
    "df_2023_11.info()"
   ]
  },
  {
   "cell_type": "code",
   "execution_count": 21,
   "metadata": {},
   "outputs": [],
   "source": [
    "#start_station_name and start_station_id are missing 9 rows\n",
    "#end_station_name and end_station_id are missing 239 rows\n",
    "#end_lat and end_lng are missing 31 rows\n",
    "\n",
    "#Drop any null rows and save as new cleaned DF\n",
    "cleaned_df_2023_11 = df_2023_11.dropna(axis = 0, how = 'any')"
   ]
  },
  {
   "cell_type": "code",
   "execution_count": 22,
   "metadata": {},
   "outputs": [
    {
     "name": "stdout",
     "output_type": "stream",
     "text": [
      "<class 'pandas.core.frame.DataFrame'>\n",
      "Int64Index: 75400 entries, 0 to 75645\n",
      "Data columns (total 13 columns):\n",
      " #   Column              Non-Null Count  Dtype  \n",
      "---  ------              --------------  -----  \n",
      " 0   ride_id             75400 non-null  object \n",
      " 1   rideable_type       75400 non-null  object \n",
      " 2   started_at          75400 non-null  object \n",
      " 3   ended_at            75400 non-null  object \n",
      " 4   start_station_name  75400 non-null  object \n",
      " 5   start_station_id    75400 non-null  object \n",
      " 6   end_station_name    75400 non-null  object \n",
      " 7   end_station_id      75400 non-null  object \n",
      " 8   start_lat           75400 non-null  float64\n",
      " 9   start_lng           75400 non-null  float64\n",
      " 10  end_lat             75400 non-null  float64\n",
      " 11  end_lng             75400 non-null  float64\n",
      " 12  member_casual       75400 non-null  object \n",
      "dtypes: float64(4), object(9)\n",
      "memory usage: 8.1+ MB\n"
     ]
    }
   ],
   "source": [
    "#Check cleaned DF\n",
    "cleaned_df_2023_11.info()\n",
    "#246 rows removed"
   ]
  },
  {
   "cell_type": "code",
   "execution_count": 24,
   "metadata": {},
   "outputs": [
    {
     "name": "stdout",
     "output_type": "stream",
     "text": [
      "<class 'pandas.core.frame.DataFrame'>\n",
      "RangeIndex: 58680 entries, 0 to 58679\n",
      "Data columns (total 13 columns):\n",
      " #   Column              Non-Null Count  Dtype  \n",
      "---  ------              --------------  -----  \n",
      " 0   ride_id             58680 non-null  object \n",
      " 1   rideable_type       58680 non-null  object \n",
      " 2   started_at          58680 non-null  object \n",
      " 3   ended_at            58680 non-null  object \n",
      " 4   start_station_name  58676 non-null  object \n",
      " 5   start_station_id    58676 non-null  object \n",
      " 6   end_station_name    58441 non-null  object \n",
      " 7   end_station_id      58441 non-null  object \n",
      " 8   start_lat           58680 non-null  float64\n",
      " 9   start_lng           58680 non-null  float64\n",
      " 10  end_lat             58638 non-null  float64\n",
      " 11  end_lng             58638 non-null  float64\n",
      " 12  member_casual       58680 non-null  object \n",
      "dtypes: float64(4), object(9)\n",
      "memory usage: 5.8+ MB\n"
     ]
    }
   ],
   "source": [
    "#Check third DF\n",
    "df_2023_12.info()"
   ]
  },
  {
   "cell_type": "code",
   "execution_count": 27,
   "metadata": {},
   "outputs": [],
   "source": [
    "#start_station_name and start_station_id are missing 4 rows\n",
    "#end_station_name and end_station_id are missing 239 rows\n",
    "#end_lat and end_lng are missing 42 rows\n",
    "\n",
    "#Drop any null rows and save as new cleaned DF\n",
    "cleaned_df_2023_12 = df_2023_12.dropna(axis = 0, how = 'any')"
   ]
  },
  {
   "cell_type": "code",
   "execution_count": 28,
   "metadata": {},
   "outputs": [
    {
     "name": "stdout",
     "output_type": "stream",
     "text": [
      "<class 'pandas.core.frame.DataFrame'>\n",
      "Int64Index: 58438 entries, 0 to 58679\n",
      "Data columns (total 13 columns):\n",
      " #   Column              Non-Null Count  Dtype  \n",
      "---  ------              --------------  -----  \n",
      " 0   ride_id             58438 non-null  object \n",
      " 1   rideable_type       58438 non-null  object \n",
      " 2   started_at          58438 non-null  object \n",
      " 3   ended_at            58438 non-null  object \n",
      " 4   start_station_name  58438 non-null  object \n",
      " 5   start_station_id    58438 non-null  object \n",
      " 6   end_station_name    58438 non-null  object \n",
      " 7   end_station_id      58438 non-null  object \n",
      " 8   start_lat           58438 non-null  float64\n",
      " 9   start_lng           58438 non-null  float64\n",
      " 10  end_lat             58438 non-null  float64\n",
      " 11  end_lng             58438 non-null  float64\n",
      " 12  member_casual       58438 non-null  object \n",
      "dtypes: float64(4), object(9)\n",
      "memory usage: 6.2+ MB\n"
     ]
    }
   ],
   "source": [
    "#Check cleaned DF\n",
    "cleaned_df_2023_12.info()\n",
    "#242 rows removed"
   ]
  }
 ],
 "metadata": {
  "kernelspec": {
   "display_name": "dev",
   "language": "python",
   "name": "python3"
  },
  "language_info": {
   "codemirror_mode": {
    "name": "ipython",
    "version": 3
   },
   "file_extension": ".py",
   "mimetype": "text/x-python",
   "name": "python",
   "nbconvert_exporter": "python",
   "pygments_lexer": "ipython3",
   "version": "3.10.12"
  }
 },
 "nbformat": 4,
 "nbformat_minor": 2
}
