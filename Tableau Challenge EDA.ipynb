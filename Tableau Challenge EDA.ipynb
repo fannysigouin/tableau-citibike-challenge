{
 "cells": [
  {
   "cell_type": "code",
   "execution_count": 1,
   "metadata": {},
   "outputs": [],
   "source": [
    "#Import dependencies\n",
    "import pandas as pd"
   ]
  },
  {
   "cell_type": "code",
   "execution_count": 2,
   "metadata": {},
   "outputs": [],
   "source": [
    "#Read CSV files into dataframes\n",
    "df_2023_10 = pd.read_csv('Resources/JC-202310-citibike-tripdata.csv')\n",
    "df_2023_11 = pd.read_csv('Resources/JC-202311-citibike-tripdata.csv')\n",
    "df_2023_12 = pd.read_csv('Resources/JC-202312-citibike-tripdata.csv')"
   ]
  },
  {
   "cell_type": "code",
   "execution_count": 17,
   "metadata": {},
   "outputs": [
    {
     "name": "stdout",
     "output_type": "stream",
     "text": [
      "<class 'pandas.core.frame.DataFrame'>\n",
      "RangeIndex: 97584 entries, 0 to 97583\n",
      "Data columns (total 13 columns):\n",
      " #   Column              Non-Null Count  Dtype  \n",
      "---  ------              --------------  -----  \n",
      " 0   ride_id             97584 non-null  object \n",
      " 1   rideable_type       97584 non-null  object \n",
      " 2   started_at          97584 non-null  object \n",
      " 3   ended_at            97584 non-null  object \n",
      " 4   start_station_name  97579 non-null  object \n",
      " 5   start_station_id    97579 non-null  object \n",
      " 6   end_station_name    97207 non-null  object \n",
      " 7   end_station_id      97207 non-null  object \n",
      " 8   start_lat           97584 non-null  float64\n",
      " 9   start_lng           97584 non-null  float64\n",
      " 10  end_lat             97497 non-null  float64\n",
      " 11  end_lng             97497 non-null  float64\n",
      " 12  member_casual       97584 non-null  object \n",
      "dtypes: float64(4), object(9)\n",
      "memory usage: 9.7+ MB\n"
     ]
    }
   ],
   "source": [
    "#Check first DF for missing values\n",
    "df_2023_10.info()"
   ]
  },
  {
   "cell_type": "code",
   "execution_count": 18,
   "metadata": {},
   "outputs": [],
   "source": [
    "#start_station_name and start_station_id are missing 5 rows\n",
    "#end_station_name and end_station_id are missing 377 rows\n",
    "#end_lat and end_lng are missing 87 rows\n",
    "\n",
    "#Drop any NA values from the DF and store in a new cleaned DF\n",
    "cleaned_df_2023_10 = df_2023_10.dropna(axis = 0, how = 'any')"
   ]
  },
  {
   "cell_type": "code",
   "execution_count": 19,
   "metadata": {},
   "outputs": [
    {
     "name": "stdout",
     "output_type": "stream",
     "text": [
      "<class 'pandas.core.frame.DataFrame'>\n",
      "Int64Index: 97204 entries, 0 to 97583\n",
      "Data columns (total 13 columns):\n",
      " #   Column              Non-Null Count  Dtype  \n",
      "---  ------              --------------  -----  \n",
      " 0   ride_id             97204 non-null  object \n",
      " 1   rideable_type       97204 non-null  object \n",
      " 2   started_at          97204 non-null  object \n",
      " 3   ended_at            97204 non-null  object \n",
      " 4   start_station_name  97204 non-null  object \n",
      " 5   start_station_id    97204 non-null  object \n",
      " 6   end_station_name    97204 non-null  object \n",
      " 7   end_station_id      97204 non-null  object \n",
      " 8   start_lat           97204 non-null  float64\n",
      " 9   start_lng           97204 non-null  float64\n",
      " 10  end_lat             97204 non-null  float64\n",
      " 11  end_lng             97204 non-null  float64\n",
      " 12  member_casual       97204 non-null  object \n",
      "dtypes: float64(4), object(9)\n",
      "memory usage: 10.4+ MB\n"
     ]
    }
   ],
   "source": [
    "#Check cleaned DF to ensure no more missing values\n",
    "cleaned_df_2023_10.info()\n",
    "#380 rows removed"
   ]
  },
  {
   "cell_type": "code",
   "execution_count": 6,
   "metadata": {},
   "outputs": [
    {
     "name": "stdout",
     "output_type": "stream",
     "text": [
      "<class 'pandas.core.frame.DataFrame'>\n",
      "RangeIndex: 75646 entries, 0 to 75645\n",
      "Data columns (total 13 columns):\n",
      " #   Column              Non-Null Count  Dtype  \n",
      "---  ------              --------------  -----  \n",
      " 0   ride_id             75646 non-null  object \n",
      " 1   rideable_type       75646 non-null  object \n",
      " 2   started_at          75646 non-null  object \n",
      " 3   ended_at            75646 non-null  object \n",
      " 4   start_station_name  75637 non-null  object \n",
      " 5   start_station_id    75637 non-null  object \n",
      " 6   end_station_name    75407 non-null  object \n",
      " 7   end_station_id      75407 non-null  object \n",
      " 8   start_lat           75646 non-null  float64\n",
      " 9   start_lng           75646 non-null  float64\n",
      " 10  end_lat             75615 non-null  float64\n",
      " 11  end_lng             75615 non-null  float64\n",
      " 12  member_casual       75646 non-null  object \n",
      "dtypes: float64(4), object(9)\n",
      "memory usage: 7.5+ MB\n"
     ]
    }
   ],
   "source": [
    "#Check second DF\n",
    "df_2023_11.info()"
   ]
  },
  {
   "cell_type": "code",
   "execution_count": 7,
   "metadata": {},
   "outputs": [],
   "source": [
    "#start_station_name and start_station_id are missing 9 rows\n",
    "#end_station_name and end_station_id are missing 239 rows\n",
    "#end_lat and end_lng are missing 31 rows\n",
    "\n",
    "#Drop any null rows and save as new cleaned DF\n",
    "cleaned_df_2023_11 = df_2023_11.dropna(axis = 0, how = 'any')"
   ]
  },
  {
   "cell_type": "code",
   "execution_count": 8,
   "metadata": {},
   "outputs": [
    {
     "name": "stdout",
     "output_type": "stream",
     "text": [
      "<class 'pandas.core.frame.DataFrame'>\n",
      "Int64Index: 75400 entries, 0 to 75645\n",
      "Data columns (total 13 columns):\n",
      " #   Column              Non-Null Count  Dtype  \n",
      "---  ------              --------------  -----  \n",
      " 0   ride_id             75400 non-null  object \n",
      " 1   rideable_type       75400 non-null  object \n",
      " 2   started_at          75400 non-null  object \n",
      " 3   ended_at            75400 non-null  object \n",
      " 4   start_station_name  75400 non-null  object \n",
      " 5   start_station_id    75400 non-null  object \n",
      " 6   end_station_name    75400 non-null  object \n",
      " 7   end_station_id      75400 non-null  object \n",
      " 8   start_lat           75400 non-null  float64\n",
      " 9   start_lng           75400 non-null  float64\n",
      " 10  end_lat             75400 non-null  float64\n",
      " 11  end_lng             75400 non-null  float64\n",
      " 12  member_casual       75400 non-null  object \n",
      "dtypes: float64(4), object(9)\n",
      "memory usage: 8.1+ MB\n"
     ]
    }
   ],
   "source": [
    "#Check cleaned DF\n",
    "cleaned_df_2023_11.info()\n",
    "#246 rows removed"
   ]
  },
  {
   "cell_type": "code",
   "execution_count": 9,
   "metadata": {},
   "outputs": [
    {
     "name": "stdout",
     "output_type": "stream",
     "text": [
      "<class 'pandas.core.frame.DataFrame'>\n",
      "RangeIndex: 58680 entries, 0 to 58679\n",
      "Data columns (total 13 columns):\n",
      " #   Column              Non-Null Count  Dtype  \n",
      "---  ------              --------------  -----  \n",
      " 0   ride_id             58680 non-null  object \n",
      " 1   rideable_type       58680 non-null  object \n",
      " 2   started_at          58680 non-null  object \n",
      " 3   ended_at            58680 non-null  object \n",
      " 4   start_station_name  58676 non-null  object \n",
      " 5   start_station_id    58676 non-null  object \n",
      " 6   end_station_name    58441 non-null  object \n",
      " 7   end_station_id      58441 non-null  object \n",
      " 8   start_lat           58680 non-null  float64\n",
      " 9   start_lng           58680 non-null  float64\n",
      " 10  end_lat             58638 non-null  float64\n",
      " 11  end_lng             58638 non-null  float64\n",
      " 12  member_casual       58680 non-null  object \n",
      "dtypes: float64(4), object(9)\n",
      "memory usage: 5.8+ MB\n"
     ]
    }
   ],
   "source": [
    "#Check third DF\n",
    "df_2023_12.info()"
   ]
  },
  {
   "cell_type": "code",
   "execution_count": 10,
   "metadata": {},
   "outputs": [],
   "source": [
    "#start_station_name and start_station_id are missing 4 rows\n",
    "#end_station_name and end_station_id are missing 239 rows\n",
    "#end_lat and end_lng are missing 42 rows\n",
    "\n",
    "#Drop any null rows and save as new cleaned DF\n",
    "cleaned_df_2023_12 = df_2023_12.dropna(axis = 0, how = 'any')"
   ]
  },
  {
   "cell_type": "code",
   "execution_count": 11,
   "metadata": {},
   "outputs": [
    {
     "name": "stdout",
     "output_type": "stream",
     "text": [
      "<class 'pandas.core.frame.DataFrame'>\n",
      "Int64Index: 58438 entries, 0 to 58679\n",
      "Data columns (total 13 columns):\n",
      " #   Column              Non-Null Count  Dtype  \n",
      "---  ------              --------------  -----  \n",
      " 0   ride_id             58438 non-null  object \n",
      " 1   rideable_type       58438 non-null  object \n",
      " 2   started_at          58438 non-null  object \n",
      " 3   ended_at            58438 non-null  object \n",
      " 4   start_station_name  58438 non-null  object \n",
      " 5   start_station_id    58438 non-null  object \n",
      " 6   end_station_name    58438 non-null  object \n",
      " 7   end_station_id      58438 non-null  object \n",
      " 8   start_lat           58438 non-null  float64\n",
      " 9   start_lng           58438 non-null  float64\n",
      " 10  end_lat             58438 non-null  float64\n",
      " 11  end_lng             58438 non-null  float64\n",
      " 12  member_casual       58438 non-null  object \n",
      "dtypes: float64(4), object(9)\n",
      "memory usage: 6.2+ MB\n"
     ]
    }
   ],
   "source": [
    "#Check cleaned DF\n",
    "cleaned_df_2023_12.info()\n",
    "#242 rows removed"
   ]
  },
  {
   "cell_type": "code",
   "execution_count": 20,
   "metadata": {},
   "outputs": [
    {
     "data": {
      "text/html": [
       "<div>\n",
       "<style scoped>\n",
       "    .dataframe tbody tr th:only-of-type {\n",
       "        vertical-align: middle;\n",
       "    }\n",
       "\n",
       "    .dataframe tbody tr th {\n",
       "        vertical-align: top;\n",
       "    }\n",
       "\n",
       "    .dataframe thead th {\n",
       "        text-align: right;\n",
       "    }\n",
       "</style>\n",
       "<table border=\"1\" class=\"dataframe\">\n",
       "  <thead>\n",
       "    <tr style=\"text-align: right;\">\n",
       "      <th></th>\n",
       "      <th>ride_id</th>\n",
       "      <th>rideable_type</th>\n",
       "      <th>started_at</th>\n",
       "      <th>ended_at</th>\n",
       "      <th>start_station_name</th>\n",
       "      <th>start_station_id</th>\n",
       "      <th>end_station_name</th>\n",
       "      <th>end_station_id</th>\n",
       "      <th>start_lat</th>\n",
       "      <th>start_lng</th>\n",
       "      <th>end_lat</th>\n",
       "      <th>end_lng</th>\n",
       "      <th>member_casual</th>\n",
       "    </tr>\n",
       "  </thead>\n",
       "  <tbody>\n",
       "    <tr>\n",
       "      <th>0</th>\n",
       "      <td>56269E94B2206375</td>\n",
       "      <td>classic_bike</td>\n",
       "      <td>2023-10-31 11:52:42</td>\n",
       "      <td>2023-10-31 12:03:33</td>\n",
       "      <td>McGinley Square</td>\n",
       "      <td>JC055</td>\n",
       "      <td>Marin Light Rail</td>\n",
       "      <td>JC013</td>\n",
       "      <td>40.725340</td>\n",
       "      <td>-74.067622</td>\n",
       "      <td>40.714584</td>\n",
       "      <td>-74.042817</td>\n",
       "      <td>member</td>\n",
       "    </tr>\n",
       "    <tr>\n",
       "      <th>1</th>\n",
       "      <td>2B2F6514026F5C68</td>\n",
       "      <td>classic_bike</td>\n",
       "      <td>2023-10-16 08:24:33</td>\n",
       "      <td>2023-10-16 08:35:28</td>\n",
       "      <td>Astor Place</td>\n",
       "      <td>JC077</td>\n",
       "      <td>Grove St PATH</td>\n",
       "      <td>JC115</td>\n",
       "      <td>40.719299</td>\n",
       "      <td>-74.071357</td>\n",
       "      <td>40.719410</td>\n",
       "      <td>-74.043090</td>\n",
       "      <td>member</td>\n",
       "    </tr>\n",
       "    <tr>\n",
       "      <th>2</th>\n",
       "      <td>3716C0E2166FE548</td>\n",
       "      <td>classic_bike</td>\n",
       "      <td>2023-10-21 11:46:26</td>\n",
       "      <td>2023-10-21 11:56:30</td>\n",
       "      <td>McGinley Square</td>\n",
       "      <td>JC055</td>\n",
       "      <td>Grove St PATH</td>\n",
       "      <td>JC115</td>\n",
       "      <td>40.725428</td>\n",
       "      <td>-74.067577</td>\n",
       "      <td>40.719410</td>\n",
       "      <td>-74.043090</td>\n",
       "      <td>member</td>\n",
       "    </tr>\n",
       "    <tr>\n",
       "      <th>3</th>\n",
       "      <td>E06BF0A228598DDF</td>\n",
       "      <td>classic_bike</td>\n",
       "      <td>2023-10-26 09:42:42</td>\n",
       "      <td>2023-10-26 09:51:28</td>\n",
       "      <td>Astor Place</td>\n",
       "      <td>JC077</td>\n",
       "      <td>Marin Light Rail</td>\n",
       "      <td>JC013</td>\n",
       "      <td>40.719267</td>\n",
       "      <td>-74.071328</td>\n",
       "      <td>40.714584</td>\n",
       "      <td>-74.042817</td>\n",
       "      <td>member</td>\n",
       "    </tr>\n",
       "    <tr>\n",
       "      <th>4</th>\n",
       "      <td>1EA3E3FFB17B6B16</td>\n",
       "      <td>classic_bike</td>\n",
       "      <td>2023-10-22 13:20:54</td>\n",
       "      <td>2023-10-22 15:00:09</td>\n",
       "      <td>McGinley Square</td>\n",
       "      <td>JC055</td>\n",
       "      <td>Grove St PATH</td>\n",
       "      <td>JC115</td>\n",
       "      <td>40.725340</td>\n",
       "      <td>-74.067622</td>\n",
       "      <td>40.719410</td>\n",
       "      <td>-74.043090</td>\n",
       "      <td>casual</td>\n",
       "    </tr>\n",
       "  </tbody>\n",
       "</table>\n",
       "</div>"
      ],
      "text/plain": [
       "            ride_id rideable_type           started_at             ended_at  \\\n",
       "0  56269E94B2206375  classic_bike  2023-10-31 11:52:42  2023-10-31 12:03:33   \n",
       "1  2B2F6514026F5C68  classic_bike  2023-10-16 08:24:33  2023-10-16 08:35:28   \n",
       "2  3716C0E2166FE548  classic_bike  2023-10-21 11:46:26  2023-10-21 11:56:30   \n",
       "3  E06BF0A228598DDF  classic_bike  2023-10-26 09:42:42  2023-10-26 09:51:28   \n",
       "4  1EA3E3FFB17B6B16  classic_bike  2023-10-22 13:20:54  2023-10-22 15:00:09   \n",
       "\n",
       "  start_station_name start_station_id  end_station_name end_station_id  \\\n",
       "0    McGinley Square            JC055  Marin Light Rail          JC013   \n",
       "1        Astor Place            JC077     Grove St PATH          JC115   \n",
       "2    McGinley Square            JC055     Grove St PATH          JC115   \n",
       "3        Astor Place            JC077  Marin Light Rail          JC013   \n",
       "4    McGinley Square            JC055     Grove St PATH          JC115   \n",
       "\n",
       "   start_lat  start_lng    end_lat    end_lng member_casual  \n",
       "0  40.725340 -74.067622  40.714584 -74.042817        member  \n",
       "1  40.719299 -74.071357  40.719410 -74.043090        member  \n",
       "2  40.725428 -74.067577  40.719410 -74.043090        member  \n",
       "3  40.719267 -74.071328  40.714584 -74.042817        member  \n",
       "4  40.725340 -74.067622  40.719410 -74.043090        casual  "
      ]
     },
     "execution_count": 20,
     "metadata": {},
     "output_type": "execute_result"
    }
   ],
   "source": [
    "final_cleaned_df = pd.concat([cleaned_df_2023_10, cleaned_df_2023_11, cleaned_df_2023_12], axis = 0)\n",
    "final_cleaned_df.head()"
   ]
  },
  {
   "cell_type": "code",
   "execution_count": 26,
   "metadata": {},
   "outputs": [],
   "source": [
    "#Convert started_at and ended_at columns to datetime object\n",
    "final_cleaned_df['started_at'] = pd.to_datetime(final_cleaned_df['started_at'], format = '%Y-%m-%d %H:%M:%S')\n",
    "final_cleaned_df['ended_at'] = pd.to_datetime(final_cleaned_df['ended_at'], format = '%Y-%m-%d %H:%M:%S')"
   ]
  },
  {
   "cell_type": "code",
   "execution_count": 32,
   "metadata": {},
   "outputs": [],
   "source": [
    "#Import datetime module\n",
    "import datetime as dt"
   ]
  },
  {
   "cell_type": "code",
   "execution_count": 42,
   "metadata": {},
   "outputs": [],
   "source": [
    "#Calculate the ride length (in minutes) from the started_at and ended_at timestamps (now converted to datetime objects)\n",
    "final_cleaned_df['ride_duration'] = round((final_cleaned_df['ended_at'] - final_cleaned_df['started_at']).dt.total_seconds() / 60, 2)"
   ]
  },
  {
   "cell_type": "code",
   "execution_count": 45,
   "metadata": {},
   "outputs": [],
   "source": [
    "#Reorder columns\n",
    "final_cleaned_df = final_cleaned_df[['ride_id', 'rideable_type', 'started_at', 'ended_at', 'ride_duration',\n",
    "       'start_station_name', 'start_station_id', 'end_station_name',\n",
    "       'end_station_id', 'start_lat', 'start_lng', 'end_lat', 'end_lng',\n",
    "       'member_casual']]"
   ]
  },
  {
   "cell_type": "code",
   "execution_count": 46,
   "metadata": {},
   "outputs": [
    {
     "data": {
      "text/html": [
       "<div>\n",
       "<style scoped>\n",
       "    .dataframe tbody tr th:only-of-type {\n",
       "        vertical-align: middle;\n",
       "    }\n",
       "\n",
       "    .dataframe tbody tr th {\n",
       "        vertical-align: top;\n",
       "    }\n",
       "\n",
       "    .dataframe thead th {\n",
       "        text-align: right;\n",
       "    }\n",
       "</style>\n",
       "<table border=\"1\" class=\"dataframe\">\n",
       "  <thead>\n",
       "    <tr style=\"text-align: right;\">\n",
       "      <th></th>\n",
       "      <th>ride_id</th>\n",
       "      <th>rideable_type</th>\n",
       "      <th>started_at</th>\n",
       "      <th>ended_at</th>\n",
       "      <th>ride_duration</th>\n",
       "      <th>start_station_name</th>\n",
       "      <th>start_station_id</th>\n",
       "      <th>end_station_name</th>\n",
       "      <th>end_station_id</th>\n",
       "      <th>start_lat</th>\n",
       "      <th>start_lng</th>\n",
       "      <th>end_lat</th>\n",
       "      <th>end_lng</th>\n",
       "      <th>member_casual</th>\n",
       "    </tr>\n",
       "  </thead>\n",
       "  <tbody>\n",
       "    <tr>\n",
       "      <th>0</th>\n",
       "      <td>56269E94B2206375</td>\n",
       "      <td>classic_bike</td>\n",
       "      <td>2023-10-31 11:52:42</td>\n",
       "      <td>2023-10-31 12:03:33</td>\n",
       "      <td>10.85</td>\n",
       "      <td>McGinley Square</td>\n",
       "      <td>JC055</td>\n",
       "      <td>Marin Light Rail</td>\n",
       "      <td>JC013</td>\n",
       "      <td>40.725340</td>\n",
       "      <td>-74.067622</td>\n",
       "      <td>40.714584</td>\n",
       "      <td>-74.042817</td>\n",
       "      <td>member</td>\n",
       "    </tr>\n",
       "    <tr>\n",
       "      <th>1</th>\n",
       "      <td>2B2F6514026F5C68</td>\n",
       "      <td>classic_bike</td>\n",
       "      <td>2023-10-16 08:24:33</td>\n",
       "      <td>2023-10-16 08:35:28</td>\n",
       "      <td>10.92</td>\n",
       "      <td>Astor Place</td>\n",
       "      <td>JC077</td>\n",
       "      <td>Grove St PATH</td>\n",
       "      <td>JC115</td>\n",
       "      <td>40.719299</td>\n",
       "      <td>-74.071357</td>\n",
       "      <td>40.719410</td>\n",
       "      <td>-74.043090</td>\n",
       "      <td>member</td>\n",
       "    </tr>\n",
       "    <tr>\n",
       "      <th>2</th>\n",
       "      <td>3716C0E2166FE548</td>\n",
       "      <td>classic_bike</td>\n",
       "      <td>2023-10-21 11:46:26</td>\n",
       "      <td>2023-10-21 11:56:30</td>\n",
       "      <td>10.07</td>\n",
       "      <td>McGinley Square</td>\n",
       "      <td>JC055</td>\n",
       "      <td>Grove St PATH</td>\n",
       "      <td>JC115</td>\n",
       "      <td>40.725428</td>\n",
       "      <td>-74.067577</td>\n",
       "      <td>40.719410</td>\n",
       "      <td>-74.043090</td>\n",
       "      <td>member</td>\n",
       "    </tr>\n",
       "    <tr>\n",
       "      <th>3</th>\n",
       "      <td>E06BF0A228598DDF</td>\n",
       "      <td>classic_bike</td>\n",
       "      <td>2023-10-26 09:42:42</td>\n",
       "      <td>2023-10-26 09:51:28</td>\n",
       "      <td>8.77</td>\n",
       "      <td>Astor Place</td>\n",
       "      <td>JC077</td>\n",
       "      <td>Marin Light Rail</td>\n",
       "      <td>JC013</td>\n",
       "      <td>40.719267</td>\n",
       "      <td>-74.071328</td>\n",
       "      <td>40.714584</td>\n",
       "      <td>-74.042817</td>\n",
       "      <td>member</td>\n",
       "    </tr>\n",
       "    <tr>\n",
       "      <th>4</th>\n",
       "      <td>1EA3E3FFB17B6B16</td>\n",
       "      <td>classic_bike</td>\n",
       "      <td>2023-10-22 13:20:54</td>\n",
       "      <td>2023-10-22 15:00:09</td>\n",
       "      <td>99.25</td>\n",
       "      <td>McGinley Square</td>\n",
       "      <td>JC055</td>\n",
       "      <td>Grove St PATH</td>\n",
       "      <td>JC115</td>\n",
       "      <td>40.725340</td>\n",
       "      <td>-74.067622</td>\n",
       "      <td>40.719410</td>\n",
       "      <td>-74.043090</td>\n",
       "      <td>casual</td>\n",
       "    </tr>\n",
       "  </tbody>\n",
       "</table>\n",
       "</div>"
      ],
      "text/plain": [
       "            ride_id rideable_type          started_at            ended_at  \\\n",
       "0  56269E94B2206375  classic_bike 2023-10-31 11:52:42 2023-10-31 12:03:33   \n",
       "1  2B2F6514026F5C68  classic_bike 2023-10-16 08:24:33 2023-10-16 08:35:28   \n",
       "2  3716C0E2166FE548  classic_bike 2023-10-21 11:46:26 2023-10-21 11:56:30   \n",
       "3  E06BF0A228598DDF  classic_bike 2023-10-26 09:42:42 2023-10-26 09:51:28   \n",
       "4  1EA3E3FFB17B6B16  classic_bike 2023-10-22 13:20:54 2023-10-22 15:00:09   \n",
       "\n",
       "   ride_duration start_station_name start_station_id  end_station_name  \\\n",
       "0          10.85    McGinley Square            JC055  Marin Light Rail   \n",
       "1          10.92        Astor Place            JC077     Grove St PATH   \n",
       "2          10.07    McGinley Square            JC055     Grove St PATH   \n",
       "3           8.77        Astor Place            JC077  Marin Light Rail   \n",
       "4          99.25    McGinley Square            JC055     Grove St PATH   \n",
       "\n",
       "  end_station_id  start_lat  start_lng    end_lat    end_lng member_casual  \n",
       "0          JC013  40.725340 -74.067622  40.714584 -74.042817        member  \n",
       "1          JC115  40.719299 -74.071357  40.719410 -74.043090        member  \n",
       "2          JC115  40.725428 -74.067577  40.719410 -74.043090        member  \n",
       "3          JC013  40.719267 -74.071328  40.714584 -74.042817        member  \n",
       "4          JC115  40.725340 -74.067622  40.719410 -74.043090        casual  "
      ]
     },
     "execution_count": 46,
     "metadata": {},
     "output_type": "execute_result"
    }
   ],
   "source": [
    "#Check DF to make sure ride_duration column was added and columns were reordered\n",
    "final_cleaned_df.head()"
   ]
  },
  {
   "cell_type": "code",
   "execution_count": 47,
   "metadata": {},
   "outputs": [],
   "source": [
    "#Save final DF as CSV\n",
    "final_cleaned_df.to_csv('Resources/final_citibike_data.csv')"
   ]
  }
 ],
 "metadata": {
  "kernelspec": {
   "display_name": "dev",
   "language": "python",
   "name": "python3"
  },
  "language_info": {
   "codemirror_mode": {
    "name": "ipython",
    "version": 3
   },
   "file_extension": ".py",
   "mimetype": "text/x-python",
   "name": "python",
   "nbconvert_exporter": "python",
   "pygments_lexer": "ipython3",
   "version": "3.10.12"
  }
 },
 "nbformat": 4,
 "nbformat_minor": 2
}
